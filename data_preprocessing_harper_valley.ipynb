{
 "cells": [
  {
   "cell_type": "code",
   "execution_count": 81,
   "id": "3292ce01",
   "metadata": {},
   "outputs": [],
   "source": [
    "import os,json,glob,time\n",
    "import pandas as pd\n",
    "import numpy as np\n",
    "import auditok,librosa\n",
    "import IPython.display as Disp\n",
    "import soundfile as sf"
   ]
  },
  {
   "cell_type": "code",
   "execution_count": 54,
   "id": "807a928d",
   "metadata": {},
   "outputs": [],
   "source": [
    "transcriptions_file_path = \"data/transcript/\"\n",
    "agent_audio_path = \"data/audio/agent/\"\n",
    "caller_audio_path = \"data/audio/caller/\"\n",
    "transcriptions = os.listdir(\"data/transcript/\")\n",
    "os.makedirs(\"processed_data/audio\",exist_ok=True)\n"
   ]
  },
  {
   "cell_type": "code",
   "execution_count": 102,
   "id": "7cd5d853",
   "metadata": {},
   "outputs": [],
   "source": [
    "df = pd.DataFrame([],columns=[\"audio_file_path\",\"transcribed_text\",\"emotion_prob_dict\",\"duration_ms\",\"speaker_role\"])\n",
    "df.to_csv(\"processed_data/data_df.csv\",index=False)"
   ]
  },
  {
   "cell_type": "code",
   "execution_count": 103,
   "id": "29bec485",
   "metadata": {},
   "outputs": [
    {
     "name": "stderr",
     "output_type": "stream",
     "text": [
      "/home/prateek/.virtualenvs/cv_p38/lib/python3.8/site-packages/librosa/core/audio.py:165: UserWarning: PySoundFile failed. Trying audioread instead.\n",
      "  warnings.warn(\"PySoundFile failed. Trying audioread instead.\")\n"
     ]
    },
    {
     "name": "stdout",
     "output_type": "stream",
     "text": [
      "Input signal length=0 is too small to resample from 8000->16000\n"
     ]
    },
    {
     "name": "stderr",
     "output_type": "stream",
     "text": [
      "/home/prateek/.virtualenvs/cv_p38/lib/python3.8/site-packages/librosa/core/audio.py:165: UserWarning: PySoundFile failed. Trying audioread instead.\n",
      "  warnings.warn(\"PySoundFile failed. Trying audioread instead.\")\n"
     ]
    },
    {
     "name": "stdout",
     "output_type": "stream",
     "text": [
      "Input signal length=0 is too small to resample from 8000->16000\n"
     ]
    },
    {
     "name": "stderr",
     "output_type": "stream",
     "text": [
      "/home/prateek/.virtualenvs/cv_p38/lib/python3.8/site-packages/librosa/core/audio.py:165: UserWarning: PySoundFile failed. Trying audioread instead.\n",
      "  warnings.warn(\"PySoundFile failed. Trying audioread instead.\")\n",
      "/home/prateek/.virtualenvs/cv_p38/lib/python3.8/site-packages/librosa/core/audio.py:165: UserWarning: PySoundFile failed. Trying audioread instead.\n",
      "  warnings.warn(\"PySoundFile failed. Trying audioread instead.\")\n"
     ]
    },
    {
     "name": "stdout",
     "output_type": "stream",
     "text": [
      "Input signal length=0 is too small to resample from 8000->16000\n",
      "Input signal length=0 is too small to resample from 8000->16000\n"
     ]
    },
    {
     "name": "stderr",
     "output_type": "stream",
     "text": [
      "/home/prateek/.virtualenvs/cv_p38/lib/python3.8/site-packages/librosa/core/audio.py:165: UserWarning: PySoundFile failed. Trying audioread instead.\n",
      "  warnings.warn(\"PySoundFile failed. Trying audioread instead.\")\n"
     ]
    },
    {
     "name": "stdout",
     "output_type": "stream",
     "text": [
      "Input signal length=0 is too small to resample from 8000->16000\n"
     ]
    },
    {
     "name": "stderr",
     "output_type": "stream",
     "text": [
      "/home/prateek/.virtualenvs/cv_p38/lib/python3.8/site-packages/librosa/core/audio.py:165: UserWarning: PySoundFile failed. Trying audioread instead.\n",
      "  warnings.warn(\"PySoundFile failed. Trying audioread instead.\")\n"
     ]
    },
    {
     "name": "stdout",
     "output_type": "stream",
     "text": [
      "Input signal length=0 is too small to resample from 8000->16000\n"
     ]
    },
    {
     "name": "stderr",
     "output_type": "stream",
     "text": [
      "/home/prateek/.virtualenvs/cv_p38/lib/python3.8/site-packages/librosa/core/audio.py:165: UserWarning: PySoundFile failed. Trying audioread instead.\n",
      "  warnings.warn(\"PySoundFile failed. Trying audioread instead.\")\n"
     ]
    },
    {
     "name": "stdout",
     "output_type": "stream",
     "text": [
      "Input signal length=0 is too small to resample from 8000->16000\n"
     ]
    },
    {
     "name": "stderr",
     "output_type": "stream",
     "text": [
      "/home/prateek/.virtualenvs/cv_p38/lib/python3.8/site-packages/librosa/core/audio.py:165: UserWarning: PySoundFile failed. Trying audioread instead.\n",
      "  warnings.warn(\"PySoundFile failed. Trying audioread instead.\")\n"
     ]
    },
    {
     "name": "stdout",
     "output_type": "stream",
     "text": [
      "Input signal length=0 is too small to resample from 8000->16000\n"
     ]
    },
    {
     "name": "stderr",
     "output_type": "stream",
     "text": [
      "/home/prateek/.virtualenvs/cv_p38/lib/python3.8/site-packages/librosa/core/audio.py:165: UserWarning: PySoundFile failed. Trying audioread instead.\n",
      "  warnings.warn(\"PySoundFile failed. Trying audioread instead.\")\n"
     ]
    },
    {
     "name": "stdout",
     "output_type": "stream",
     "text": [
      "Input signal length=0 is too small to resample from 8000->16000\n"
     ]
    },
    {
     "name": "stderr",
     "output_type": "stream",
     "text": [
      "/home/prateek/.virtualenvs/cv_p38/lib/python3.8/site-packages/librosa/core/audio.py:165: UserWarning: PySoundFile failed. Trying audioread instead.\n",
      "  warnings.warn(\"PySoundFile failed. Trying audioread instead.\")\n"
     ]
    },
    {
     "name": "stdout",
     "output_type": "stream",
     "text": [
      "Input signal length=0 is too small to resample from 8000->16000\n"
     ]
    },
    {
     "name": "stderr",
     "output_type": "stream",
     "text": [
      "/home/prateek/.virtualenvs/cv_p38/lib/python3.8/site-packages/librosa/core/audio.py:165: UserWarning: PySoundFile failed. Trying audioread instead.\n",
      "  warnings.warn(\"PySoundFile failed. Trying audioread instead.\")\n"
     ]
    },
    {
     "name": "stdout",
     "output_type": "stream",
     "text": [
      "Input signal length=0 is too small to resample from 8000->16000\n"
     ]
    },
    {
     "name": "stderr",
     "output_type": "stream",
     "text": [
      "/home/prateek/.virtualenvs/cv_p38/lib/python3.8/site-packages/librosa/core/audio.py:165: UserWarning: PySoundFile failed. Trying audioread instead.\n",
      "  warnings.warn(\"PySoundFile failed. Trying audioread instead.\")\n"
     ]
    },
    {
     "name": "stdout",
     "output_type": "stream",
     "text": [
      "Input signal length=0 is too small to resample from 8000->16000\n"
     ]
    },
    {
     "name": "stderr",
     "output_type": "stream",
     "text": [
      "/home/prateek/.virtualenvs/cv_p38/lib/python3.8/site-packages/librosa/core/audio.py:165: UserWarning: PySoundFile failed. Trying audioread instead.\n",
      "  warnings.warn(\"PySoundFile failed. Trying audioread instead.\")\n"
     ]
    },
    {
     "name": "stdout",
     "output_type": "stream",
     "text": [
      "Input signal length=0 is too small to resample from 8000->16000\n"
     ]
    }
   ],
   "source": [
    "file_idx = 0\n",
    "\n",
    "for file_name in transcriptions:\n",
    "    jsn = json.load(open(os.path.join(transcriptions_file_path,file_name),\"rb\"))\n",
    "    data = []\n",
    "    for obj in jsn:\n",
    "        try:\n",
    "            file_idx+=1\n",
    "            text = obj[\"human_transcript\"]\n",
    "            emotion_prob_dict = obj[\"emotion\"]\n",
    "            duration = obj[\"duration_ms\"]\n",
    "            speaker_role = obj[\"speaker_role\"]\n",
    "            if speaker_role==\"agent\":\n",
    "                audio_file_path = os.path.join(agent_audio_path,file_name.replace(\".json\",\".wav\"))\n",
    "            elif speaker_role==\"caller\":\n",
    "                audio_file_path = os.path.join(caller_audio_path,file_name.replace(\".json\",\".wav\"))\n",
    "            audio,sr = librosa.load(audio_file_path,sr=16000,offset = obj[\"start_ms\"]/1000,duration = obj[\"duration_ms\"]/1000)\n",
    "            op_file_path = os.path.join(os.getcwd(),\"processed_data/audio/\",str(file_idx).zfill(6)+\".wav\")\n",
    "            sf.write(op_file_path, audio, sr)\n",
    "            data.append([op_file_path,text,emotion_prob_dict,duration,speaker_role])\n",
    "        except Exception as e:\n",
    "            print(e)\n",
    "    df = pd.DataFrame(data)\n",
    "    df.to_csv(\"processed_data/data_df.csv\",mode=\"a\",header=False,index=False)\n",
    "    \n",
    " "
   ]
  },
  {
   "cell_type": "code",
   "execution_count": 79,
   "id": "59692587",
   "metadata": {},
   "outputs": [],
   "source": [
    "df =pd.read_csv(\"processed_data/data_df.csv\")"
   ]
  },
  {
   "cell_type": "markdown",
   "id": "66770e4b",
   "metadata": {},
   "source": [
    "##### testing"
   ]
  },
  {
   "cell_type": "code",
   "execution_count": null,
   "id": "de471c87",
   "metadata": {},
   "outputs": [],
   "source": [
    "for  idx,row in df.iterrows():\n",
    "    time.sleep(2)\n",
    "    Disp.clear_output(wait=True)\n",
    "    audio,sr = librosa.load(row[\"audio_file_path\"])\n",
    "    print(row[\"transcribed_text\"],sr)\n",
    "    Disp.display(Disp.Audio(audio,autoplay=True,rate=sr))"
   ]
  },
  {
   "cell_type": "code",
   "execution_count": null,
   "id": "b2ed6c1e",
   "metadata": {},
   "outputs": [],
   "source": [
    "df.audio_file_path = df.audio_file_path.apply(lambda x : os.path.abspath(x))\n",
    "\n",
    "df.to_csv(\"processed_data/data_df_1.csv\",index=False)"
   ]
  },
  {
   "cell_type": "code",
   "execution_count": 65,
   "id": "3c35b0a7",
   "metadata": {},
   "outputs": [
    {
     "name": "stdout",
     "output_type": "stream",
     "text": [
      "{'channel_index': 2, 'dialog_acts': ['gridspace_greeting'], 'duration_ms': 1140, 'emotion': {'neutral': 0.5255231857299805, 'negative': 0.18728971481323242, 'positive': 0.2871870696544647}, 'human_transcript': 'my name is elizabeth', 'index': 2, 'offset_ms': 6890, 'speaker_role': 'agent', 'start_ms': 4839, 'start_timestamp_ms': 1591056790175, 'transcript': 'my name is alyssa', 'word_durations_ms': [120, 240, 150, 630], 'word_offsets_ms': [0, 120, 360, 510]}\n",
      "my name is elizabeth\n"
     ]
    },
    {
     "data": {
      "text/html": [
       "\n",
       "                <audio  controls=\"controls\" autoplay=\"autoplay\">\n",
       "                    <source src=\"data:audio/wav;base64,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\" type=\"audio/wav\" />\n",
       "                    Your browser does not support the audio element.\n",
       "                </audio>\n",
       "              "
      ],
      "text/plain": [
       "<IPython.lib.display.Audio object>"
      ]
     },
     "execution_count": 65,
     "metadata": {},
     "output_type": "execute_result"
    }
   ],
   "source": [
    "obj = jsn[1]\n",
    "print(obj)\n",
    "text = obj[\"human_transcript\"]\n",
    "print(text)\n",
    "emotion_prob_dict = obj[\"emotion\"]\n",
    "duration = obj[\"duration_ms\"]\n",
    "if obj[\"speaker_role\"]==\"agent\":\n",
    "    audio_file_path = os.path.join(agent_audio_path,file_name.replace(\".json\",\".wav\"))\n",
    "elif obj[\"speaker_role\"]==\"caller\":\n",
    "    audio_file_path = os.path.join(caller_audio_path,file_name.replace(\".json\",\".wav\"))\n",
    "audio,sr = librosa.load(audio_file_path,sr=16000,offset = obj[\"start_ms\"]/1000,duration = obj[\"duration_ms\"]/1000)\n",
    "Disp.Audio(data=audio,rate=sr,autoplay=True)\n"
   ]
  },
  {
   "cell_type": "code",
   "execution_count": 90,
   "id": "ca977a50",
   "metadata": {
    "scrolled": true
   },
   "outputs": [],
   "source": [
    "df.audio_file_path = df.audio_file_path.apply(lambda x : os.path.abspath(x))\n",
    "\n",
    "df.to_csv(\"processed_data/data_df_1.csv\",index=False)"
   ]
  },
  {
   "cell_type": "code",
   "execution_count": null,
   "id": "5ea73b18",
   "metadata": {},
   "outputs": [],
   "source": [
    " "
   ]
  }
 ],
 "metadata": {
  "kernelspec": {
   "display_name": "cv_p38",
   "language": "python",
   "name": "cv_p38"
  },
  "language_info": {
   "codemirror_mode": {
    "name": "ipython",
    "version": 3
   },
   "file_extension": ".py",
   "mimetype": "text/x-python",
   "name": "python",
   "nbconvert_exporter": "python",
   "pygments_lexer": "ipython3",
   "version": "3.8.10"
  }
 },
 "nbformat": 4,
 "nbformat_minor": 5
}
