{
 "cells": [
  {
   "cell_type": "code",
   "execution_count": 4,
   "id": "484472b7-ab82-4027-bbf9-e46b74aec080",
   "metadata": {},
   "outputs": [],
   "source": [
    "import pyaudio\n",
    "from IPython.display import display,clear_output\n",
    "def getaudiodevices():\n",
    "    p = pyaudio.PyAudio()\n",
    "    for i in range(p.get_device_count()):\n",
    "        print (p.get_device_info_by_index(i).get('name'))"
   ]
  },
  {
   "cell_type": "code",
   "execution_count": 5,
   "id": "8b8c5a54-c161-4231-b1b0-af31a7914502",
   "metadata": {},
   "outputs": [
    {
     "name": "stdout",
     "output_type": "stream",
     "text": [
      "pulse\n",
      "default\n"
     ]
    }
   ],
   "source": [
    "getaudiodevices()"
   ]
  },
  {
   "cell_type": "code",
   "execution_count": 8,
   "id": "f32e53f1-1e8f-45dc-a42c-3c8c6fbc3947",
   "metadata": {},
   "outputs": [
    {
     "name": "stdout",
     "output_type": "stream",
     "text": [
      "   0 HDA Intel PCH: ALC255 Analog (hw:0,0), ALSA (2 in, 2 out)\n",
      "   1 sysdefault, ALSA (128 in, 128 out)\n",
      "   2 front, ALSA (0 in, 2 out)\n",
      "   3 surround40, ALSA (0 in, 2 out)\n",
      "   4 surround51, ALSA (0 in, 2 out)\n",
      "   5 surround71, ALSA (0 in, 2 out)\n",
      "   6 samplerate, ALSA (128 in, 128 out)\n",
      "   7 speexrate, ALSA (128 in, 128 out)\n",
      "   8 pulse, ALSA (32 in, 32 out)\n",
      "   9 upmix, ALSA (8 in, 8 out)\n",
      "  10 vdownmix, ALSA (6 in, 6 out)\n",
      "  11 dmix, ALSA (0 in, 2 out)\n",
      "* 12 default, ALSA (32 in, 32 out)\n"
     ]
    }
   ],
   "source": [
    "import sounddevice as sd\n",
    "print (sd.query_devices() )"
   ]
  },
  {
   "cell_type": "code",
   "execution_count": 1,
   "id": "f3f756e6-0244-4a45-8137-7bcb45396abd",
   "metadata": {},
   "outputs": [],
   "source": [
    "import numpy as np\n",
    "import pyaudio\n",
    "import time\n",
    "import librosa\n",
    "\n",
    "class AudioHandler(object):\n",
    "    def __init__(self,rate=16000,chunk=1024*2):\n",
    "        self.FORMAT = pyaudio.paFloat32\n",
    "        self.CHANNELS = 1\n",
    "        self.RATE = rate\n",
    "        self.CHUNK = chunk ## number of audio samples per frame\n",
    "        self.p = None\n",
    "        \n",
    "        self.stream = None\n",
    "\n",
    "    def start(self):\n",
    "        self.p = pyaudio.PyAudio()\n",
    "        self.stream = self.p.open(format=self.FORMAT,\n",
    "                                  channels=self.CHANNELS,\n",
    "                                  rate=self.RATE,\n",
    "                                  input=True,\n",
    "                                  output=False,\n",
    "                                  stream_callback=self.callback,\n",
    "                                  frames_per_buffer=self.CHUNK)\n",
    "\n",
    "    def stop(self):\n",
    "        self.stream.close()\n",
    "        self.p.terminate()\n",
    "\n",
    "    def callback(self, in_data, frame_count, time_info, flag):\n",
    "        numpy_array = np.frombuffer(in_data, dtype=np.float32)\n",
    "        librosa.feature.mfcc(numpy_array)\n",
    "        return None, pyaudio.paContinue\n",
    "\n",
    "    def mainloop(self):\n",
    "        while (self.stream.is_active()): # if using button you can set self.stream to 0 (self.stream = 0), otherwise you can use a stop condition\n",
    "            time.sleep(2.0)"
   ]
  },
  {
   "cell_type": "code",
   "execution_count": 1,
   "id": "14590ff2-8d63-49d8-8d16-b1beaec2cd52",
   "metadata": {},
   "outputs": [],
   "source": [
    "import librosa"
   ]
  },
  {
   "cell_type": "code",
   "execution_count": null,
   "id": "a225e981-e5fd-4d50-8035-2659db675ca5",
   "metadata": {},
   "outputs": [],
   "source": [
    "librosa.feature.utils"
   ]
  },
  {
   "cell_type": "code",
   "execution_count": 2,
   "id": "fd8ef767-5f44-407e-b84b-4dfc7fd22bee",
   "metadata": {},
   "outputs": [
    {
     "name": "stderr",
     "output_type": "stream",
     "text": [
      "ALSA lib pcm_dsnoop.c:641:(snd_pcm_dsnoop_open) unable to open slave\n",
      "ALSA lib pcm_dmix.c:1089:(snd_pcm_dmix_open) unable to open slave\n",
      "ALSA lib pcm.c:2642:(snd_pcm_open_noupdate) Unknown PCM cards.pcm.rear\n",
      "ALSA lib pcm.c:2642:(snd_pcm_open_noupdate) Unknown PCM cards.pcm.center_lfe\n",
      "ALSA lib pcm.c:2642:(snd_pcm_open_noupdate) Unknown PCM cards.pcm.side\n",
      "ALSA lib pcm_oss.c:377:(_snd_pcm_oss_open) Unknown field port\n",
      "ALSA lib pcm_oss.c:377:(_snd_pcm_oss_open) Unknown field port\n",
      "ALSA lib pcm_usb_stream.c:486:(_snd_pcm_usb_stream_open) Invalid type for card\n",
      "ALSA lib pcm_usb_stream.c:486:(_snd_pcm_usb_stream_open) Invalid type for card\n",
      "ALSA lib pcm_dmix.c:1089:(snd_pcm_dmix_open) unable to open slave\n"
     ]
    },
    {
     "ename": "KeyboardInterrupt",
     "evalue": "",
     "output_type": "error",
     "traceback": [
      "\u001b[0;31m---------------------------------------------------------------------------\u001b[0m",
      "\u001b[0;31mKeyboardInterrupt\u001b[0m                         Traceback (most recent call last)",
      "\u001b[0;32m/tmp/ipykernel_8425/2897515808.py\u001b[0m in \u001b[0;36m<module>\u001b[0;34m\u001b[0m\n\u001b[1;32m      1\u001b[0m \u001b[0maudio\u001b[0m \u001b[0;34m=\u001b[0m \u001b[0mAudioHandler\u001b[0m\u001b[0;34m(\u001b[0m\u001b[0;34m)\u001b[0m\u001b[0;34m\u001b[0m\u001b[0;34m\u001b[0m\u001b[0m\n\u001b[1;32m      2\u001b[0m \u001b[0maudio\u001b[0m\u001b[0;34m.\u001b[0m\u001b[0mstart\u001b[0m\u001b[0;34m(\u001b[0m\u001b[0;34m)\u001b[0m     \u001b[0;31m# open the the stream\u001b[0m\u001b[0;34m\u001b[0m\u001b[0;34m\u001b[0m\u001b[0m\n\u001b[0;32m----> 3\u001b[0;31m \u001b[0maudio\u001b[0m\u001b[0;34m.\u001b[0m\u001b[0mmainloop\u001b[0m\u001b[0;34m(\u001b[0m\u001b[0;34m)\u001b[0m  \u001b[0;31m# main operations with librosa\u001b[0m\u001b[0;34m\u001b[0m\u001b[0;34m\u001b[0m\u001b[0m\n\u001b[0m\u001b[1;32m      4\u001b[0m \u001b[0maudio\u001b[0m\u001b[0;34m.\u001b[0m\u001b[0mstop\u001b[0m\u001b[0;34m(\u001b[0m\u001b[0;34m)\u001b[0m\u001b[0;34m\u001b[0m\u001b[0;34m\u001b[0m\u001b[0m\n",
      "\u001b[0;32m/tmp/ipykernel_8425/2783856292.py\u001b[0m in \u001b[0;36mmainloop\u001b[0;34m(self)\u001b[0m\n\u001b[1;32m     35\u001b[0m     \u001b[0;32mdef\u001b[0m \u001b[0mmainloop\u001b[0m\u001b[0;34m(\u001b[0m\u001b[0mself\u001b[0m\u001b[0;34m)\u001b[0m\u001b[0;34m:\u001b[0m\u001b[0;34m\u001b[0m\u001b[0;34m\u001b[0m\u001b[0m\n\u001b[1;32m     36\u001b[0m         \u001b[0;32mwhile\u001b[0m \u001b[0;34m(\u001b[0m\u001b[0mself\u001b[0m\u001b[0;34m.\u001b[0m\u001b[0mstream\u001b[0m\u001b[0;34m.\u001b[0m\u001b[0mis_active\u001b[0m\u001b[0;34m(\u001b[0m\u001b[0;34m)\u001b[0m\u001b[0;34m)\u001b[0m\u001b[0;34m:\u001b[0m \u001b[0;31m# if using button you can set self.stream to 0 (self.stream = 0), otherwise you can use a stop condition\u001b[0m\u001b[0;34m\u001b[0m\u001b[0;34m\u001b[0m\u001b[0m\n\u001b[0;32m---> 37\u001b[0;31m             \u001b[0mtime\u001b[0m\u001b[0;34m.\u001b[0m\u001b[0msleep\u001b[0m\u001b[0;34m(\u001b[0m\u001b[0;36m2.0\u001b[0m\u001b[0;34m)\u001b[0m\u001b[0;34m\u001b[0m\u001b[0;34m\u001b[0m\u001b[0m\n\u001b[0m",
      "\u001b[0;31mKeyboardInterrupt\u001b[0m: "
     ]
    }
   ],
   "source": [
    "audio = AudioHandler()\n",
    "audio.start()     # open the the stream\n",
    "audio.mainloop()  # main operations with librosa\n",
    "audio.stop()"
   ]
  },
  {
   "cell_type": "code",
   "execution_count": 1,
   "id": "7de02684-d42b-4827-95b8-6b9d64bae4da",
   "metadata": {},
   "outputs": [
    {
     "name": "stderr",
     "output_type": "stream",
     "text": [
      "ALSA lib pcm.c:2642:(snd_pcm_open_noupdate) Unknown PCM cards.pcm.rear\n",
      "ALSA lib pcm.c:2642:(snd_pcm_open_noupdate) Unknown PCM cards.pcm.center_lfe\n",
      "ALSA lib pcm.c:2642:(snd_pcm_open_noupdate) Unknown PCM cards.pcm.side\n",
      "ALSA lib pcm_route.c:869:(find_matching_chmap) Found no matching channel map\n",
      "ALSA lib pcm_route.c:869:(find_matching_chmap) Found no matching channel map\n",
      "ALSA lib pcm_route.c:869:(find_matching_chmap) Found no matching channel map\n",
      "ALSA lib pcm_route.c:869:(find_matching_chmap) Found no matching channel map\n",
      "ALSA lib pcm_oss.c:377:(_snd_pcm_oss_open) Unknown field port\n",
      "ALSA lib pcm_oss.c:377:(_snd_pcm_oss_open) Unknown field port\n",
      "ALSA lib pcm_usb_stream.c:486:(_snd_pcm_usb_stream_open) Invalid type for card\n",
      "ALSA lib pcm_usb_stream.c:486:(_snd_pcm_usb_stream_open) Invalid type for card\n"
     ]
    }
   ],
   "source": [
    "import pyaudio\n",
    "import struct\n",
    "import numpy as np\n",
    "import matplotlib.pyplot as plt\n",
    "import time\n",
    "\n",
    "%matplotlib tk\n",
    "\n",
    "CHUNK = 4000\n",
    "FORMAT = pyaudio.paInt16\n",
    "CHANNELS = 1\n",
    "RATE = 16000\n",
    "\n",
    "p = pyaudio.PyAudio()"
   ]
  },
  {
   "cell_type": "code",
   "execution_count": null,
   "id": "69c0c1b3-b8c6-471d-bacc-3e09d8aa90f4",
   "metadata": {},
   "outputs": [
    {
     "name": "stdout",
     "output_type": "stream",
     "text": [
      "Chosen index:  8\n"
     ]
    }
   ],
   "source": [
    "chosen_device_index = -1\n",
    "for x in range(0,p.get_device_count()):\n",
    "    info = p.get_device_info_by_index(x)\n",
    "    #print p.get_device_info_by_index(x)\n",
    "    if info[\"name\"] == \"pulse\":\n",
    "        chosen_device_index = info[\"index\"]\n",
    "        print (\"Chosen index: \", chosen_device_index)\n",
    "\n",
    "\n",
    "stream = p.open(format=FORMAT,\n",
    " channels=CHANNELS,\n",
    " rate=RATE,\n",
    " input_device_index=chosen_device_index,\n",
    " input=True,\n",
    " output=True,\n",
    " frames_per_buffer=CHUNK\n",
    " )\n",
    " \n",
    "# plt.ion()\n",
    "\n",
    "x = np.arange(0, CHUNK)\n",
    "data = stream.read(CHUNK)\n",
    "data_int16 = struct.unpack(str(CHUNK) + 'h', data)\n",
    "numpy_array = np.frombuffer(in_data, dtype=np.float32)\n",
    "#ax.set_xlim([xmin,xmax])\n",
    "fig, ax = plt.subplots()\n",
    "line, = ax.plot(x, data_int16)\n",
    "\n",
    "ax.set_ylim([-2**10,(2**10)-1])\n",
    "\n",
    "while True:\n",
    "    data = struct.unpack(str(CHUNK) + 'h', stream.read(CHUNK))\n",
    "    line.set_ydata(data)\n",
    "    fig.canvas.draw()\n",
    "    fig.canvas.flush_events()"
   ]
  },
  {
   "cell_type": "code",
   "execution_count": 7,
   "id": "016b9272-170e-464f-9956-0cb1dc3f3443",
   "metadata": {},
   "outputs": [
    {
     "data": {
      "text/plain": [
       "<bound method Stream.is_active of <pyaudio.Stream object at 0x7f1030756340>>"
      ]
     },
     "execution_count": 7,
     "metadata": {},
     "output_type": "execute_result"
    }
   ],
   "source": [
    "audio.stream.is_active"
   ]
  },
  {
   "cell_type": "code",
   "execution_count": 2,
   "id": "a4d2d05e-9aa6-4369-8819-29779426e437",
   "metadata": {},
   "outputs": [
    {
     "name": "stdout",
     "output_type": "stream",
     "text": [
      "pulse\n",
      "Chosen index:  0\n",
      "default\n"
     ]
    }
   ],
   "source": [
    "chosen_device_index = -1\n",
    "for x in range(0,p.get_device_count()):\n",
    "    info = p.get_device_info_by_index(x)\n",
    "    print(info[\"name\"])\n",
    "    #print p.get_device_info_by_index(x)\n",
    "    if info[\"name\"] == \"pulse\":\n",
    "        chosen_device_index = info[\"index\"]\n",
    "        print (\"Chosen index: \", chosen_device_index)\n"
   ]
  },
  {
   "cell_type": "code",
   "execution_count": 3,
   "id": "00ee040e-c318-4c45-a1be-d24444cb8f2a",
   "metadata": {},
   "outputs": [
    {
     "data": {
      "text/plain": [
       "2"
      ]
     },
     "execution_count": 3,
     "metadata": {},
     "output_type": "execute_result"
    }
   ],
   "source": [
    "p.get_device_count()"
   ]
  },
  {
   "cell_type": "code",
   "execution_count": 7,
   "id": "c2fea98e-6264-4350-89f3-bdb32ece1598",
   "metadata": {},
   "outputs": [
    {
     "ename": "NameError",
     "evalue": "name 'data' is not defined",
     "output_type": "error",
     "traceback": [
      "\u001b[0;31m---------------------------------------------------------------------------\u001b[0m",
      "\u001b[0;31mNameError\u001b[0m                                 Traceback (most recent call last)",
      "\u001b[0;32m/tmp/ipykernel_27995/391604064.py\u001b[0m in \u001b[0;36m<module>\u001b[0;34m\u001b[0m\n\u001b[0;32m----> 1\u001b[0;31m \u001b[0mdata\u001b[0m\u001b[0;34m\u001b[0m\u001b[0;34m\u001b[0m\u001b[0m\n\u001b[0m",
      "\u001b[0;31mNameError\u001b[0m: name 'data' is not defined"
     ]
    }
   ],
   "source": [
    "data"
   ]
  },
  {
   "cell_type": "code",
   "execution_count": null,
   "id": "f0742cca-1af9-4c9b-9ef4-d2d44d7fe332",
   "metadata": {},
   "outputs": [],
   "source": []
  }
 ],
 "metadata": {
  "kernelspec": {
   "display_name": "pytorch",
   "language": "python",
   "name": "pytorch"
  },
  "language_info": {
   "codemirror_mode": {
    "name": "ipython",
    "version": 3
   },
   "file_extension": ".py",
   "mimetype": "text/x-python",
   "name": "python",
   "nbconvert_exporter": "python",
   "pygments_lexer": "ipython3",
   "version": "3.8.10"
  }
 },
 "nbformat": 4,
 "nbformat_minor": 5
}
